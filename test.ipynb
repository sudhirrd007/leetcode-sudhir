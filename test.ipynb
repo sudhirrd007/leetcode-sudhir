{
 "cells": [
  {
   "cell_type": "markdown",
   "metadata": {},
   "source": [
    "# LEARN"
   ]
  },
  {
   "cell_type": "code",
   "execution_count": 115,
   "metadata": {},
   "outputs": [],
   "source": [
    "import os"
   ]
  },
  {
   "cell_type": "code",
   "execution_count": 116,
   "metadata": {},
   "outputs": [],
   "source": [
    "os.mkdir('./test')"
   ]
  },
  {
   "cell_type": "code",
   "execution_count": null,
   "metadata": {},
   "outputs": [],
   "source": []
  },
  {
   "cell_type": "code",
   "execution_count": null,
   "metadata": {},
   "outputs": [],
   "source": []
  },
  {
   "cell_type": "markdown",
   "metadata": {},
   "source": [
    "# SQLite3"
   ]
  },
  {
   "cell_type": "code",
   "execution_count": 14,
   "metadata": {},
   "outputs": [
    {
     "data": {
      "text/html": [
       "<div>\n",
       "<style scoped>\n",
       "    .dataframe tbody tr th:only-of-type {\n",
       "        vertical-align: middle;\n",
       "    }\n",
       "\n",
       "    .dataframe tbody tr th {\n",
       "        vertical-align: top;\n",
       "    }\n",
       "\n",
       "    .dataframe thead th {\n",
       "        text-align: right;\n",
       "    }\n",
       "</style>\n",
       "<table border=\"1\" class=\"dataframe\">\n",
       "  <thead>\n",
       "    <tr style=\"text-align: right;\">\n",
       "      <th></th>\n",
       "      <th>number</th>\n",
       "      <th>title</th>\n",
       "      <th>filename</th>\n",
       "      <th>difficulty</th>\n",
       "      <th>language</th>\n",
       "      <th>tags</th>\n",
       "      <th>leetcodelink</th>\n",
       "      <th>acceptancerate</th>\n",
       "      <th>notes</th>\n",
       "    </tr>\n",
       "  </thead>\n",
       "  <tbody>\n",
       "    <tr>\n",
       "      <th>0</th>\n",
       "      <td>1</td>\n",
       "      <td>Two Sum</td>\n",
       "      <td>0001_Two_sum.py</td>\n",
       "      <td>easy</td>\n",
       "      <td>python</td>\n",
       "      <td>ARRAY-HASHTABLE</td>\n",
       "      <td>https://leetcode.com/problems/two-sum/</td>\n",
       "      <td>49.1%</td>\n",
       "      <td></td>\n",
       "    </tr>\n",
       "    <tr>\n",
       "      <th>1</th>\n",
       "      <td>2</td>\n",
       "      <td>Add Two Numbers</td>\n",
       "      <td>0002_Add_Two_Numbers.py</td>\n",
       "      <td>medium</td>\n",
       "      <td>python</td>\n",
       "      <td>LINKEDLIST-MATH-RECURSION</td>\n",
       "      <td>https://leetcode.com/problems/add-two-numbers/</td>\n",
       "      <td>39.8%</td>\n",
       "      <td></td>\n",
       "    </tr>\n",
       "    <tr>\n",
       "      <th>2</th>\n",
       "      <td>4</td>\n",
       "      <td>Median of Two Sorted Arrays</td>\n",
       "      <td>0004_Median_of_Two_Sorted_Arrays.py</td>\n",
       "      <td>hard</td>\n",
       "      <td>python</td>\n",
       "      <td>ARRAY-BINARYSEARCH-DIVIDEANDCONQUER</td>\n",
       "      <td>https://leetcode.com/problems/two-sum/</td>\n",
       "      <td>49.1%</td>\n",
       "      <td></td>\n",
       "    </tr>\n",
       "  </tbody>\n",
       "</table>\n",
       "</div>"
      ],
      "text/plain": [
       "   number                        title                             filename  \\\n",
       "0       1                      Two Sum                      0001_Two_sum.py   \n",
       "1       2              Add Two Numbers              0002_Add_Two_Numbers.py   \n",
       "2       4  Median of Two Sorted Arrays  0004_Median_of_Two_Sorted_Arrays.py   \n",
       "\n",
       "  difficulty language                                 tags  \\\n",
       "0       easy   python                      ARRAY-HASHTABLE   \n",
       "1     medium   python            LINKEDLIST-MATH-RECURSION   \n",
       "2       hard   python  ARRAY-BINARYSEARCH-DIVIDEANDCONQUER   \n",
       "\n",
       "                                     leetcodelink acceptancerate notes  \n",
       "0          https://leetcode.com/problems/two-sum/          49.1%        \n",
       "1  https://leetcode.com/problems/add-two-numbers/          39.8%        \n",
       "2          https://leetcode.com/problems/two-sum/          49.1%        "
      ]
     },
     "execution_count": 14,
     "metadata": {},
     "output_type": "execute_result"
    }
   ],
   "source": [
    "import sqlite3\n",
    "import pandas as pd\n",
    "\n",
    "con = sqlite3.connect(\"leetcode.db\")\n",
    "cur = con.cursor()\n",
    "\n",
    "df = pd.read_sql_query(\"SELECT * from Problem ORDER BY number ASC\", con)\n",
    "df"
   ]
  },
  {
   "cell_type": "code",
   "execution_count": 128,
   "metadata": {},
   "outputs": [],
   "source": [
    "FOLDER_MAPPINGS = {\n",
    "    'ARRAY': {'title': 'Array', 'folderName': 'Array', 'readmeName': 'array'},\n",
    "    'BINARYSEARCH': {'title': 'Binary Search', 'folderName': 'BinarySearch', 'readmeName': 'binary-search'},\n",
    "    'DIVIDEANDCONQUER': {'title': 'Divide and Conquer', 'folderName': 'DivideAndConquer', 'readmeName': 'divide-and-conquer'},\n",
    "    'HASHTABLE': {'title': 'Hash Table', 'folderName': 'HashTable', 'readmeName': 'hash-table'},\n",
    "    'LINKEDLIST': {'title': 'Linked List', 'folderName': 'LinkedList', 'readmeName': 'linked-list'},\n",
    "    'MATH': {'title': 'Math', 'folderName': 'Math', 'readmeName': 'math'},\n",
    "    'RECURSION': {'title': 'Recursion', 'folderName': 'Recursion', 'readmeName': 'recursion'}\n",
    "}"
   ]
  },
  {
   "cell_type": "code",
   "execution_count": 129,
   "metadata": {},
   "outputs": [],
   "source": [
    "DATA = {tag: [] for tag in FOLDER_MAPPINGS.keys()}\n",
    "DICT = {'number': None, \\\n",
    "    'title': None, \\\n",
    "    'filename': None, \\\n",
    "    'filelocation': None, \\\n",
    "    'difficulty': None, \\\n",
    "    'language': None, \\\n",
    "    'leetcodelink': None, \\\n",
    "    'acceptancerate': None, \\\n",
    "    'notes': None}\n",
    "\n",
    "df = pd.read_sql_query(\"SELECT * from Problem\", con)\n",
    "\n",
    "for dataRow in df.iterrows():\n",
    "    row = dataRow[1]\n",
    "\n",
    "    DICT['number'] = row['number']\n",
    "    DICT['title'] = row['title']\n",
    "    DICT['filename'] = row['filename']\n",
    "    DICT['difficulty'] = row['difficulty']\n",
    "    DICT['language'] = row['language']\n",
    "    DICT['leetcodelink'] = row['leetcodelink']\n",
    "    DICT['acceptancerate'] = row['acceptancerate']\n",
    "    DICT['notes'] = row['notes']\n",
    "\n",
    "    for tag in row['tags'].split('-'):\n",
    "        folderLoc = FOLDER_MAPPINGS[tag]['folderName']\n",
    "        fileName = row['filename']\n",
    "        DICT['filelocation'] = f'./{folderLoc}/{fileName}'\n",
    "        DATA[tag].append(DICT)"
   ]
  },
  {
   "cell_type": "code",
   "execution_count": 130,
   "metadata": {},
   "outputs": [
    {
     "data": {
      "text/plain": [
       "{'ARRAY': [{'number': 4,\n",
       "   'title': 'Median of Two Sorted Arrays',\n",
       "   'filename': '0004_Median_of_Two_Sorted_Arrays.py',\n",
       "   'filelocation': './DivideAndConquer/0004_Median_of_Two_Sorted_Arrays.py',\n",
       "   'difficulty': 'hard',\n",
       "   'language': 'python',\n",
       "   'leetcodelink': 'https://leetcode.com/problems/two-sum/',\n",
       "   'acceptancerate': '49.1%',\n",
       "   'notes': ''},\n",
       "  {'number': 4,\n",
       "   'title': 'Median of Two Sorted Arrays',\n",
       "   'filename': '0004_Median_of_Two_Sorted_Arrays.py',\n",
       "   'filelocation': './DivideAndConquer/0004_Median_of_Two_Sorted_Arrays.py',\n",
       "   'difficulty': 'hard',\n",
       "   'language': 'python',\n",
       "   'leetcodelink': 'https://leetcode.com/problems/two-sum/',\n",
       "   'acceptancerate': '49.1%',\n",
       "   'notes': ''}],\n",
       " 'BINARYSEARCH': [{'number': 4,\n",
       "   'title': 'Median of Two Sorted Arrays',\n",
       "   'filename': '0004_Median_of_Two_Sorted_Arrays.py',\n",
       "   'filelocation': './DivideAndConquer/0004_Median_of_Two_Sorted_Arrays.py',\n",
       "   'difficulty': 'hard',\n",
       "   'language': 'python',\n",
       "   'leetcodelink': 'https://leetcode.com/problems/two-sum/',\n",
       "   'acceptancerate': '49.1%',\n",
       "   'notes': ''}],\n",
       " 'DIVIDEANDCONQUER': [{'number': 4,\n",
       "   'title': 'Median of Two Sorted Arrays',\n",
       "   'filename': '0004_Median_of_Two_Sorted_Arrays.py',\n",
       "   'filelocation': './DivideAndConquer/0004_Median_of_Two_Sorted_Arrays.py',\n",
       "   'difficulty': 'hard',\n",
       "   'language': 'python',\n",
       "   'leetcodelink': 'https://leetcode.com/problems/two-sum/',\n",
       "   'acceptancerate': '49.1%',\n",
       "   'notes': ''}],\n",
       " 'HASHTABLE': [{'number': 4,\n",
       "   'title': 'Median of Two Sorted Arrays',\n",
       "   'filename': '0004_Median_of_Two_Sorted_Arrays.py',\n",
       "   'filelocation': './DivideAndConquer/0004_Median_of_Two_Sorted_Arrays.py',\n",
       "   'difficulty': 'hard',\n",
       "   'language': 'python',\n",
       "   'leetcodelink': 'https://leetcode.com/problems/two-sum/',\n",
       "   'acceptancerate': '49.1%',\n",
       "   'notes': ''}],\n",
       " 'LINKEDLIST': [{'number': 4,\n",
       "   'title': 'Median of Two Sorted Arrays',\n",
       "   'filename': '0004_Median_of_Two_Sorted_Arrays.py',\n",
       "   'filelocation': './DivideAndConquer/0004_Median_of_Two_Sorted_Arrays.py',\n",
       "   'difficulty': 'hard',\n",
       "   'language': 'python',\n",
       "   'leetcodelink': 'https://leetcode.com/problems/two-sum/',\n",
       "   'acceptancerate': '49.1%',\n",
       "   'notes': ''}],\n",
       " 'MATH': [{'number': 4,\n",
       "   'title': 'Median of Two Sorted Arrays',\n",
       "   'filename': '0004_Median_of_Two_Sorted_Arrays.py',\n",
       "   'filelocation': './DivideAndConquer/0004_Median_of_Two_Sorted_Arrays.py',\n",
       "   'difficulty': 'hard',\n",
       "   'language': 'python',\n",
       "   'leetcodelink': 'https://leetcode.com/problems/two-sum/',\n",
       "   'acceptancerate': '49.1%',\n",
       "   'notes': ''}],\n",
       " 'RECURSION': [{'number': 4,\n",
       "   'title': 'Median of Two Sorted Arrays',\n",
       "   'filename': '0004_Median_of_Two_Sorted_Arrays.py',\n",
       "   'filelocation': './DivideAndConquer/0004_Median_of_Two_Sorted_Arrays.py',\n",
       "   'difficulty': 'hard',\n",
       "   'language': 'python',\n",
       "   'leetcodelink': 'https://leetcode.com/problems/two-sum/',\n",
       "   'acceptancerate': '49.1%',\n",
       "   'notes': ''}]}"
      ]
     },
     "execution_count": 130,
     "metadata": {},
     "output_type": "execute_result"
    }
   ],
   "source": [
    "DATA"
   ]
  },
  {
   "cell_type": "code",
   "execution_count": 95,
   "metadata": {},
   "outputs": [],
   "source": []
  },
  {
   "cell_type": "code",
   "execution_count": null,
   "metadata": {},
   "outputs": [],
   "source": []
  },
  {
   "cell_type": "markdown",
   "metadata": {},
   "source": [
    "# Delete Files"
   ]
  },
  {
   "cell_type": "code",
   "execution_count": 15,
   "metadata": {},
   "outputs": [
    {
     "name": "stdout",
     "output_type": "stream",
     "text": [
      "['BinarySearch', 'Math', 'DivideAndConquer', 'LinkedList', 'Array', 'Recursion', 'HashTable']\n"
     ]
    }
   ],
   "source": [
    "import os\n",
    "import shutil\n",
    "def deleteFiles():\n",
    "    availableFoldersFiles = os.listdir()\n",
    "    availableFolders = filter(lambda x: os.path.isdir(x), availableFoldersFiles)\n",
    "    availableFolders = list(availableFolders)    \n",
    "\n",
    "    availableFolders = set(availableFolders) - set(['ALL', 'WORKING', 'TemporaryFiles', '.git'])\n",
    "    availableFolders = list(availableFolders)\n",
    "    print(availableFolders)\n",
    "\n",
    "    for folder in availableFolders:\n",
    "        for file in os.listdir(folder):\n",
    "            os.remove(f'./{folder}/{file}')\n",
    "\n",
    "deleteFiles()\n",
    "\n",
    "def moveFromAllToTemp():\n",
    "    filesAll = os.listdir('./ALL')\n",
    "    for file in filesAll:\n",
    "        shutil.copyfile(f'./ALL/{file}', f'./TemporaryFiles/{file}')\n",
    "        os.remove(f'./ALL/{file}')\n",
    "\n",
    "moveFromAllToTemp()\n",
    "os.remove(f'./leetcode.db')"
   ]
  },
  {
   "cell_type": "markdown",
   "metadata": {},
   "source": [
    "# ReadME"
   ]
  },
  {
   "cell_type": "code",
   "execution_count": 72,
   "metadata": {},
   "outputs": [],
   "source": [
    "import string"
   ]
  },
  {
   "cell_type": "code",
   "execution_count": 73,
   "metadata": {},
   "outputs": [],
   "source": [
    "# Constants -------------------------------------\n",
    "FOLDER_MAPPINGS = {\n",
    "    'ARRAY': {'title': 'Array', 'folderName': 'Array', 'readmeName': 'array'},\n",
    "    'HASHTABLE': {'title': 'Hash Table', 'folderName': 'HashTable', 'readmeName': 'hash-table'},\n",
    "    'LINKEDLIST': {'title': 'Linked List', 'folderName': 'LinkedList', 'readmeName': 'linked-list'},\n",
    "    'MATH': {'title': 'Math', 'folderName': 'Math', 'readmeName': 'math'},\n",
    "    'RECURSION': {'title': 'Recursion', 'folderName': 'Recursion', 'readmeName': 'recursion'}\n",
    "}\n"
   ]
  },
  {
   "cell_type": "code",
   "execution_count": 74,
   "metadata": {},
   "outputs": [
    {
     "name": "stdout",
     "output_type": "stream",
     "text": [
      "A <br> \n",
      "[Array](#array) <br> \n",
      " \n",
      "H <br> \n",
      "[Hash Table](#hash-table) <br> \n",
      " \n",
      "L <br> \n",
      "[Linked List](#linked-list) <br> \n",
      " \n",
      "M <br> \n",
      "[Math](#math) <br> \n",
      " \n",
      "R <br> \n",
      "[Recursion](#recursion) <br> \n",
      " \n",
      "\n"
     ]
    }
   ],
   "source": [
    "INDEX_STRING = \"\"\n",
    "ALPHABET_LIST = list(string.ascii_lowercase)\n",
    "\n",
    "for alphabet in ALPHABET_LIST:\n",
    "    TEMP_INDEX_STRING = \"\"\n",
    "    for tag in sorted(list(FOLDER_MAPPINGS.keys())):\n",
    "        if(tag[0].lower() == alphabet):\n",
    "            # folderName = FOLDER_MAPPINGS[tag]['folderName']\n",
    "            title = FOLDER_MAPPINGS[tag]['title']\n",
    "            readmeName = FOLDER_MAPPINGS[tag]['readmeName']\n",
    "            TEMP_INDEX_STRING += f'[{title}](#{readmeName}) <br> \\n'\n",
    "    if(TEMP_INDEX_STRING):\n",
    "        INDEX_STRING += f'{alphabet.upper()} <br> \\n{TEMP_INDEX_STRING} \\n'\n",
    "\n",
    "print(INDEX_STRING)"
   ]
  },
  {
   "cell_type": "code",
   "execution_count": null,
   "metadata": {},
   "outputs": [],
   "source": []
  },
  {
   "cell_type": "code",
   "execution_count": null,
   "metadata": {},
   "outputs": [],
   "source": []
  },
  {
   "cell_type": "code",
   "execution_count": null,
   "metadata": {},
   "outputs": [],
   "source": []
  },
  {
   "cell_type": "code",
   "execution_count": null,
   "metadata": {},
   "outputs": [],
   "source": []
  },
  {
   "cell_type": "code",
   "execution_count": null,
   "metadata": {},
   "outputs": [],
   "source": []
  },
  {
   "cell_type": "code",
   "execution_count": null,
   "metadata": {},
   "outputs": [],
   "source": []
  }
 ],
 "metadata": {
  "kernelspec": {
   "display_name": "Python 3.9.12 ('base')",
   "language": "python",
   "name": "python3"
  },
  "language_info": {
   "codemirror_mode": {
    "name": "ipython",
    "version": 3
   },
   "file_extension": ".py",
   "mimetype": "text/x-python",
   "name": "python",
   "nbconvert_exporter": "python",
   "pygments_lexer": "ipython3",
   "version": "3.9.12"
  },
  "orig_nbformat": 4,
  "vscode": {
   "interpreter": {
    "hash": "4330ef348376cb8cfa93fe5572dc2d4d7b5ab670deedbca26235ea08c9f95635"
   }
  }
 },
 "nbformat": 4,
 "nbformat_minor": 2
}
